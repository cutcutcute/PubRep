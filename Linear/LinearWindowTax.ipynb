{
 "cells": [
  {
   "cell_type": "code",
   "execution_count": 3,
   "id": "18e38ca9",
   "metadata": {},
   "outputs": [
    {
     "data": {
      "text/plain": [
       "array([[15],\n",
       "       [37],\n",
       "       [27],\n",
       "       [10],\n",
       "       [48],\n",
       "       [44],\n",
       "       [24],\n",
       "       [15],\n",
       "       [26],\n",
       "       [43],\n",
       "       [22],\n",
       "       [24],\n",
       "       [21],\n",
       "       [27],\n",
       "       [42],\n",
       "       [26],\n",
       "       [39],\n",
       "       [35],\n",
       "       [39],\n",
       "       [19],\n",
       "       [49],\n",
       "       [20],\n",
       "       [23],\n",
       "       [18],\n",
       "       [45],\n",
       "       [25],\n",
       "       [43],\n",
       "       [13],\n",
       "       [30],\n",
       "       [44],\n",
       "       [39],\n",
       "       [47],\n",
       "       [36],\n",
       "       [45],\n",
       "       [41],\n",
       "       [16],\n",
       "       [32],\n",
       "       [10],\n",
       "       [47],\n",
       "       [36],\n",
       "       [40],\n",
       "       [19],\n",
       "       [32],\n",
       "       [28],\n",
       "       [16],\n",
       "       [22],\n",
       "       [49],\n",
       "       [26],\n",
       "       [37],\n",
       "       [35],\n",
       "       [47],\n",
       "       [26],\n",
       "       [46],\n",
       "       [49],\n",
       "       [32],\n",
       "       [48],\n",
       "       [22],\n",
       "       [30],\n",
       "       [30],\n",
       "       [26],\n",
       "       [43],\n",
       "       [19],\n",
       "       [28],\n",
       "       [43],\n",
       "       [26],\n",
       "       [24],\n",
       "       [30],\n",
       "       [31],\n",
       "       [35],\n",
       "       [48],\n",
       "       [40],\n",
       "       [20],\n",
       "       [17],\n",
       "       [27],\n",
       "       [33],\n",
       "       [37],\n",
       "       [12],\n",
       "       [11],\n",
       "       [46],\n",
       "       [33],\n",
       "       [17],\n",
       "       [19],\n",
       "       [12],\n",
       "       [48],\n",
       "       [31],\n",
       "       [10],\n",
       "       [33],\n",
       "       [25],\n",
       "       [18],\n",
       "       [11],\n",
       "       [40],\n",
       "       [45],\n",
       "       [32],\n",
       "       [36],\n",
       "       [21],\n",
       "       [31],\n",
       "       [48],\n",
       "       [37],\n",
       "       [21],\n",
       "       [24]])"
      ]
     },
     "execution_count": 3,
     "metadata": {},
     "output_type": "execute_result"
    }
   ],
   "source": [
    "import matplotlib.pyplot as plt \n",
    "import numpy as np \n",
    "import pandas as pd \n",
    "import sklearn \n",
    "from sklearn.linear_model import LinearRegression\n",
    "from sklearn.preprocessing import scale \n",
    "from pylab import rcParams \n",
    "\n",
    "rcParams['figure.figsize'] = 10,8\n",
    "windows = np.random.randint(10, 50, (100,1))\n",
    "windows"
   ]
  },
  {
   "cell_type": "code",
   "execution_count": 4,
   "id": "979a3fc8",
   "metadata": {},
   "outputs": [
    {
     "data": {
      "text/plain": [
       "array([[1756],\n",
       "       [3956],\n",
       "       [2956],\n",
       "       [1256],\n",
       "       [5056],\n",
       "       [4656],\n",
       "       [2656],\n",
       "       [1756],\n",
       "       [2856],\n",
       "       [4556],\n",
       "       [2456],\n",
       "       [2656],\n",
       "       [2356],\n",
       "       [2956],\n",
       "       [4456],\n",
       "       [2856],\n",
       "       [4156],\n",
       "       [3756],\n",
       "       [4156],\n",
       "       [2156],\n",
       "       [5156],\n",
       "       [2256],\n",
       "       [2556],\n",
       "       [2056],\n",
       "       [4756],\n",
       "       [2756],\n",
       "       [4556],\n",
       "       [1556],\n",
       "       [3256],\n",
       "       [4656],\n",
       "       [4156],\n",
       "       [4956],\n",
       "       [3856],\n",
       "       [4756],\n",
       "       [4356],\n",
       "       [1856],\n",
       "       [3456],\n",
       "       [1256],\n",
       "       [4956],\n",
       "       [3856],\n",
       "       [4256],\n",
       "       [2156],\n",
       "       [3456],\n",
       "       [3056],\n",
       "       [1856],\n",
       "       [2456],\n",
       "       [5156],\n",
       "       [2856],\n",
       "       [3956],\n",
       "       [3756],\n",
       "       [4956],\n",
       "       [2856],\n",
       "       [4856],\n",
       "       [5156],\n",
       "       [3456],\n",
       "       [5056],\n",
       "       [2456],\n",
       "       [3256],\n",
       "       [3256],\n",
       "       [2856],\n",
       "       [4556],\n",
       "       [2156],\n",
       "       [3056],\n",
       "       [4556],\n",
       "       [2856],\n",
       "       [2656],\n",
       "       [3256],\n",
       "       [3356],\n",
       "       [3756],\n",
       "       [5056],\n",
       "       [4256],\n",
       "       [2256],\n",
       "       [1956],\n",
       "       [2956],\n",
       "       [3556],\n",
       "       [3956],\n",
       "       [1456],\n",
       "       [1356],\n",
       "       [4856],\n",
       "       [3556],\n",
       "       [1956],\n",
       "       [2156],\n",
       "       [1456],\n",
       "       [5056],\n",
       "       [3356],\n",
       "       [1256],\n",
       "       [3556],\n",
       "       [2756],\n",
       "       [2056],\n",
       "       [1356],\n",
       "       [4256],\n",
       "       [4756],\n",
       "       [3456],\n",
       "       [3856],\n",
       "       [2356],\n",
       "       [3356],\n",
       "       [5056],\n",
       "       [3956],\n",
       "       [2356],\n",
       "       [2656]])"
      ]
     },
     "execution_count": 4,
     "metadata": {},
     "output_type": "execute_result"
    }
   ],
   "source": [
    "tax  = 256 + 100*windows \n",
    "tax"
   ]
  },
  {
   "cell_type": "code",
   "execution_count": 6,
   "id": "a6c51ac8",
   "metadata": {},
   "outputs": [
    {
     "data": {
      "image/png": "[encoded data removed]",
      "text/plain": [
       "<Figure size 1000x800 with 1 Axes>"
      ]
     },
     "metadata": {},
     "output_type": "display_data"
    }
   ],
   "source": [
    "plt.plot(windows, tax, 'r^')\n",
    "plt.xlabel('Windows')\n",
    "plt.ylabel('Tax')\n",
    "plt.show()"
   ]
  },
  {
   "cell_type": "code",
   "execution_count": 11,
   "id": "91e246b2",
   "metadata": {},
   "outputs": [
    {
     "name": "stdout",
     "output_type": "stream",
     "text": [
      "[256.] [[100.]]\n"
     ]
    }
   ],
   "source": [
    "x = windows \n",
    "y = tax \n",
    "linReg = LinearRegression()\n",
    "linReg.fit(x, y)\n",
    "print(linReg.intercept_, linReg.coef_) #intercept_ - Альфа (пересечение с нулем) |coef_ - Бетта (наклон)"
   ]
  },
  {
   "cell_type": "code",
   "execution_count": 14,
   "id": "a27076b5",
   "metadata": {},
   "outputs": [
    {
     "name": "stdout",
     "output_type": "stream",
     "text": [
      "1.0\n"
     ]
    }
   ],
   "source": [
    "print(linReg.score(x,y)) #Коэффициент детерминации (Насколько y зависит от x)"
   ]
  },
  {
   "cell_type": "code",
   "execution_count": 16,
   "id": "280b997e",
   "metadata": {},
   "outputs": [],
   "source": [
    "x_new = np.random.randint(5,20, (100,1))\n"
   ]
  },
  {
   "cell_type": "code",
   "execution_count": 18,
   "id": "1967300f",
   "metadata": {},
   "outputs": [
    {
     "data": {
      "text/plain": [
       "array([[1156.],\n",
       "       [1456.],\n",
       "       [ 956.],\n",
       "       [1356.],\n",
       "       [1356.],\n",
       "       [1556.],\n",
       "       [ 956.],\n",
       "       [2156.],\n",
       "       [ 856.],\n",
       "       [1856.],\n",
       "       [1756.],\n",
       "       [1956.],\n",
       "       [1056.],\n",
       "       [ 756.],\n",
       "       [1856.],\n",
       "       [ 756.],\n",
       "       [1756.],\n",
       "       [ 856.],\n",
       "       [2056.],\n",
       "       [1956.],\n",
       "       [2156.],\n",
       "       [2056.],\n",
       "       [1256.],\n",
       "       [1056.],\n",
       "       [1956.],\n",
       "       [ 756.],\n",
       "       [1456.],\n",
       "       [1256.],\n",
       "       [2156.],\n",
       "       [2056.],\n",
       "       [1556.],\n",
       "       [1856.],\n",
       "       [1556.],\n",
       "       [1856.],\n",
       "       [ 956.],\n",
       "       [1656.],\n",
       "       [1256.],\n",
       "       [1056.],\n",
       "       [1256.],\n",
       "       [ 856.],\n",
       "       [1556.],\n",
       "       [ 856.],\n",
       "       [1756.],\n",
       "       [1156.],\n",
       "       [ 756.],\n",
       "       [1756.],\n",
       "       [1056.],\n",
       "       [1956.],\n",
       "       [1256.],\n",
       "       [1056.],\n",
       "       [2056.],\n",
       "       [1156.],\n",
       "       [2056.],\n",
       "       [1856.],\n",
       "       [2056.],\n",
       "       [2156.],\n",
       "       [1356.],\n",
       "       [ 756.],\n",
       "       [2156.],\n",
       "       [1256.],\n",
       "       [1656.],\n",
       "       [1656.],\n",
       "       [1756.],\n",
       "       [1656.],\n",
       "       [1056.],\n",
       "       [1756.],\n",
       "       [1956.],\n",
       "       [1856.],\n",
       "       [1656.],\n",
       "       [1556.],\n",
       "       [ 756.],\n",
       "       [1156.],\n",
       "       [1356.],\n",
       "       [1656.],\n",
       "       [1456.],\n",
       "       [ 756.],\n",
       "       [1156.],\n",
       "       [1456.],\n",
       "       [ 956.],\n",
       "       [1456.],\n",
       "       [1256.],\n",
       "       [1256.],\n",
       "       [1556.],\n",
       "       [1456.],\n",
       "       [1256.],\n",
       "       [1656.],\n",
       "       [1356.],\n",
       "       [2156.],\n",
       "       [1956.],\n",
       "       [ 856.],\n",
       "       [ 956.],\n",
       "       [1856.],\n",
       "       [1756.],\n",
       "       [1756.],\n",
       "       [1756.],\n",
       "       [1256.],\n",
       "       [1956.],\n",
       "       [ 756.],\n",
       "       [ 956.],\n",
       "       [1956.]])"
      ]
     },
     "execution_count": 18,
     "metadata": {},
     "output_type": "execute_result"
    }
   ],
   "source": [
    "y_new = linReg.predict(x_new)\n",
    "y_new"
   ]
  },
  {
   "cell_type": "code",
   "execution_count": 19,
   "id": "79da579f",
   "metadata": {},
   "outputs": [
    {
     "data": {
      "image/png": "[encoded data removed]",
      "text/plain": [
       "<Figure size 1000x800 with 1 Axes>"
      ]
     },
     "metadata": {},
     "output_type": "display_data"
    }
   ],
   "source": [
    "plt.plot(x_new, y_new, 'r^')\n",
    "plt.xlabel('New X Values')\n",
    "plt.ylabel('New Y Values')\n",
    "plt.show()"
   ]
  },
  {
   "cell_type": "code",
   "execution_count": 21,
   "id": "226cfc28",
   "metadata": {},
   "outputs": [
    {
     "name": "stdout",
     "output_type": "stream",
     "text": [
      "1.0\n"
     ]
    }
   ],
   "source": [
    "print(linReg.score(x_new, y_new))"
   ]
  },
  {
   "cell_type": "code",
   "execution_count": null,
   "id": "763a43fc",
   "metadata": {},
   "outputs": [],
   "source": []
  }
 ],
 "metadata": {
  "kernelspec": {
   "display_name": "Python 3 (ipykernel)",
   "language": "python",
   "name": "python3"
  },
  "language_info": {
   "codemirror_mode": {
    "name": "ipython",
    "version": 3
   },
   "file_extension": ".py",
   "mimetype": "text/x-python",
   "name": "python",
   "nbconvert_exporter": "python",
   "pygments_lexer": "ipython3",
   "version": "3.10.0"
  }
 },
 "nbformat": 4,
 "nbformat_minor": 5
}
