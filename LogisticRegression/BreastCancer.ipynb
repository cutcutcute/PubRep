{
 "cells": [
  {
   "cell_type": "code",
   "execution_count": 23,
   "id": "b4d25819",
   "metadata": {},
   "outputs": [],
   "source": [
    "import pandas as pd \n",
    "import numpy as np \n",
    "import matplotlib.pyplot as plt \n",
    "import seaborn as sb \n",
    "from sklearn.datasets import load_breast_cancer \n",
    "from sklearn.linear_model import LogisticRegression \n",
    "from sklearn.model_selection import train_test_split\n"
   ]
  },
  {
   "cell_type": "code",
   "execution_count": 15,
   "id": "b5e071f3",
   "metadata": {},
   "outputs": [
    {
     "name": "stdout",
     "output_type": "stream",
     "text": [
      "(569, 30) (569,)\n"
     ]
    }
   ],
   "source": [
    "data = load_breast_cancer(as_frame = True)\n",
    "\n",
    "x = data.data\n",
    "y = data.target \n",
    "print(x.shape, y.shape)"
   ]
  },
  {
   "cell_type": "code",
   "execution_count": 19,
   "id": "00f49932",
   "metadata": {},
   "outputs": [
    {
     "data": {
      "text/plain": [
       "Index(['mean radius', 'mean texture', 'mean perimeter', 'mean area',\n",
       "       'mean smoothness', 'mean compactness', 'mean concavity',\n",
       "       'mean concave points', 'mean symmetry', 'mean fractal dimension',\n",
       "       'radius error', 'texture error', 'perimeter error', 'area error',\n",
       "       'smoothness error', 'compactness error', 'concavity error',\n",
       "       'concave points error', 'symmetry error', 'fractal dimension error',\n",
       "       'worst radius', 'worst texture', 'worst perimeter', 'worst area',\n",
       "       'worst smoothness', 'worst compactness', 'worst concavity',\n",
       "       'worst concave points', 'worst symmetry', 'worst fractal dimension'],\n",
       "      dtype='object')"
      ]
     },
     "execution_count": 19,
     "metadata": {},
     "output_type": "execute_result"
    }
   ],
   "source": [
    "x.columns"
   ]
  },
  {
   "cell_type": "code",
   "execution_count": 20,
   "id": "933750a9",
   "metadata": {},
   "outputs": [
    {
     "name": "stderr",
     "output_type": "stream",
     "text": [
      "C:\\Users\\User\\AppData\\Local\\Temp\\ipykernel_8988\\2814384606.py:1: SettingWithCopyWarning: \n",
      "A value is trying to be set on a copy of a slice from a DataFrame\n",
      "\n",
      "See the caveats in the documentation: https://pandas.pydata.org/pandas-docs/stable/user_guide/indexing.html#returning-a-view-versus-a-copy\n",
      "  x.drop(['fractal dimension error'], axis = 1, inplace = True)\n"
     ]
    },
    {
     "data": {
      "text/plain": [
       "Index(['mean radius', 'mean texture', 'mean perimeter', 'mean area',\n",
       "       'mean smoothness', 'mean compactness', 'mean concavity',\n",
       "       'mean concave points', 'mean symmetry', 'mean fractal dimension',\n",
       "       'radius error', 'texture error', 'perimeter error', 'area error',\n",
       "       'smoothness error', 'compactness error', 'concavity error',\n",
       "       'concave points error', 'symmetry error', 'worst radius',\n",
       "       'worst texture', 'worst perimeter', 'worst area', 'worst smoothness',\n",
       "       'worst compactness', 'worst concavity', 'worst concave points',\n",
       "       'worst symmetry', 'worst fractal dimension'],\n",
       "      dtype='object')"
      ]
     },
     "execution_count": 20,
     "metadata": {},
     "output_type": "execute_result"
    }
   ],
   "source": [
    "x.drop(['fractal dimension error'], axis = 1, inplace = True)\n",
    "x.columns"
   ]
  },
  {
   "cell_type": "code",
   "execution_count": 21,
   "id": "78035d94",
   "metadata": {},
   "outputs": [
    {
     "data": {
      "text/plain": [
       "29"
      ]
     },
     "execution_count": 21,
     "metadata": {},
     "output_type": "execute_result"
    }
   ],
   "source": [
    "len(x.columns)"
   ]
  },
  {
   "cell_type": "code",
   "execution_count": 22,
   "id": "ffa1ed4d",
   "metadata": {},
   "outputs": [
    {
     "data": {
      "text/plain": [
       "(212, 357)"
      ]
     },
     "execution_count": 22,
     "metadata": {},
     "output_type": "execute_result"
    }
   ],
   "source": [
    "len(y[y == 0]), len(y[y == 1])"
   ]
  },
  {
   "cell_type": "code",
   "execution_count": 24,
   "id": "fd0f0eff",
   "metadata": {},
   "outputs": [],
   "source": [
    "x_train, x_test, y_train, y_test = train_test_split(x,y,test_size = 0.2, random_state = 42)\n"
   ]
  },
  {
   "cell_type": "code",
   "execution_count": 30,
   "id": "ac18bb11",
   "metadata": {},
   "outputs": [
    {
     "data": {
      "text/html": [
       "<div>\n",
       "<style scoped>\n",
       "    .dataframe tbody tr th:only-of-type {\n",
       "        vertical-align: middle;\n",
       "    }\n",
       "\n",
       "    .dataframe tbody tr th {\n",
       "        vertical-align: top;\n",
       "    }\n",
       "\n",
       "    .dataframe thead th {\n",
       "        text-align: right;\n",
       "    }\n",
       "</style>\n",
       "<table border=\"1\" class=\"dataframe\">\n",
       "  <thead>\n",
       "    <tr style=\"text-align: right;\">\n",
       "      <th></th>\n",
       "      <th>mean radius</th>\n",
       "      <th>mean texture</th>\n",
       "      <th>mean perimeter</th>\n",
       "      <th>mean area</th>\n",
       "      <th>mean smoothness</th>\n",
       "      <th>mean compactness</th>\n",
       "      <th>mean concavity</th>\n",
       "      <th>mean concave points</th>\n",
       "      <th>mean symmetry</th>\n",
       "      <th>mean fractal dimension</th>\n",
       "      <th>...</th>\n",
       "      <th>worst radius</th>\n",
       "      <th>worst texture</th>\n",
       "      <th>worst perimeter</th>\n",
       "      <th>worst area</th>\n",
       "      <th>worst smoothness</th>\n",
       "      <th>worst compactness</th>\n",
       "      <th>worst concavity</th>\n",
       "      <th>worst concave points</th>\n",
       "      <th>worst symmetry</th>\n",
       "      <th>worst fractal dimension</th>\n",
       "    </tr>\n",
       "  </thead>\n",
       "  <tbody>\n",
       "    <tr>\n",
       "      <th>0</th>\n",
       "      <td>-1.440753</td>\n",
       "      <td>-0.435319</td>\n",
       "      <td>-1.362085</td>\n",
       "      <td>-1.139118</td>\n",
       "      <td>0.780573</td>\n",
       "      <td>0.718921</td>\n",
       "      <td>2.823135</td>\n",
       "      <td>-0.119150</td>\n",
       "      <td>1.092662</td>\n",
       "      <td>2.458173</td>\n",
       "      <td>...</td>\n",
       "      <td>-1.232861</td>\n",
       "      <td>-0.476309</td>\n",
       "      <td>-1.247920</td>\n",
       "      <td>-0.973968</td>\n",
       "      <td>0.722894</td>\n",
       "      <td>1.186732</td>\n",
       "      <td>4.672828</td>\n",
       "      <td>0.932012</td>\n",
       "      <td>2.097242</td>\n",
       "      <td>1.886450</td>\n",
       "    </tr>\n",
       "    <tr>\n",
       "      <th>1</th>\n",
       "      <td>1.974096</td>\n",
       "      <td>1.733026</td>\n",
       "      <td>2.091672</td>\n",
       "      <td>1.851973</td>\n",
       "      <td>1.319843</td>\n",
       "      <td>3.426275</td>\n",
       "      <td>2.013112</td>\n",
       "      <td>2.665032</td>\n",
       "      <td>2.127004</td>\n",
       "      <td>1.558396</td>\n",
       "      <td>...</td>\n",
       "      <td>2.173314</td>\n",
       "      <td>1.311279</td>\n",
       "      <td>2.081617</td>\n",
       "      <td>2.137405</td>\n",
       "      <td>0.761928</td>\n",
       "      <td>3.265601</td>\n",
       "      <td>1.928621</td>\n",
       "      <td>2.698947</td>\n",
       "      <td>1.891161</td>\n",
       "      <td>2.497838</td>\n",
       "    </tr>\n",
       "    <tr>\n",
       "      <th>2</th>\n",
       "      <td>-1.399982</td>\n",
       "      <td>-1.249622</td>\n",
       "      <td>-1.345209</td>\n",
       "      <td>-1.109785</td>\n",
       "      <td>-1.332645</td>\n",
       "      <td>-0.307355</td>\n",
       "      <td>-0.365558</td>\n",
       "      <td>-0.696502</td>\n",
       "      <td>1.930333</td>\n",
       "      <td>0.954379</td>\n",
       "      <td>...</td>\n",
       "      <td>-1.295284</td>\n",
       "      <td>-1.040811</td>\n",
       "      <td>-1.245220</td>\n",
       "      <td>-0.999715</td>\n",
       "      <td>-1.438693</td>\n",
       "      <td>-0.548564</td>\n",
       "      <td>-0.644911</td>\n",
       "      <td>-0.970239</td>\n",
       "      <td>0.597602</td>\n",
       "      <td>0.057894</td>\n",
       "    </tr>\n",
       "    <tr>\n",
       "      <th>3</th>\n",
       "      <td>-0.981797</td>\n",
       "      <td>1.416222</td>\n",
       "      <td>-0.982587</td>\n",
       "      <td>-0.866944</td>\n",
       "      <td>0.059390</td>\n",
       "      <td>-0.596788</td>\n",
       "      <td>-0.820203</td>\n",
       "      <td>-0.845115</td>\n",
       "      <td>0.313264</td>\n",
       "      <td>0.074041</td>\n",
       "      <td>...</td>\n",
       "      <td>-0.829197</td>\n",
       "      <td>1.593530</td>\n",
       "      <td>-0.873572</td>\n",
       "      <td>-0.742947</td>\n",
       "      <td>0.796624</td>\n",
       "      <td>-0.729392</td>\n",
       "      <td>-0.774950</td>\n",
       "      <td>-0.809483</td>\n",
       "      <td>0.798928</td>\n",
       "      <td>-0.134497</td>\n",
       "    </tr>\n",
       "    <tr>\n",
       "      <th>4</th>\n",
       "      <td>-1.117700</td>\n",
       "      <td>-1.010259</td>\n",
       "      <td>-1.125002</td>\n",
       "      <td>-0.965942</td>\n",
       "      <td>1.269511</td>\n",
       "      <td>-0.439002</td>\n",
       "      <td>-0.983341</td>\n",
       "      <td>-0.930600</td>\n",
       "      <td>3.394436</td>\n",
       "      <td>0.950213</td>\n",
       "      <td>...</td>\n",
       "      <td>-1.085129</td>\n",
       "      <td>-1.334616</td>\n",
       "      <td>-1.117138</td>\n",
       "      <td>-0.896549</td>\n",
       "      <td>-0.174876</td>\n",
       "      <td>-0.995079</td>\n",
       "      <td>-1.209146</td>\n",
       "      <td>-1.354582</td>\n",
       "      <td>1.033544</td>\n",
       "      <td>-0.205732</td>\n",
       "    </tr>\n",
       "    <tr>\n",
       "      <th>...</th>\n",
       "      <td>...</td>\n",
       "      <td>...</td>\n",
       "      <td>...</td>\n",
       "      <td>...</td>\n",
       "      <td>...</td>\n",
       "      <td>...</td>\n",
       "      <td>...</td>\n",
       "      <td>...</td>\n",
       "      <td>...</td>\n",
       "      <td>...</td>\n",
       "      <td>...</td>\n",
       "      <td>...</td>\n",
       "      <td>...</td>\n",
       "      <td>...</td>\n",
       "      <td>...</td>\n",
       "      <td>...</td>\n",
       "      <td>...</td>\n",
       "      <td>...</td>\n",
       "      <td>...</td>\n",
       "      <td>...</td>\n",
       "      <td>...</td>\n",
       "    </tr>\n",
       "    <tr>\n",
       "      <th>450</th>\n",
       "      <td>-1.480675</td>\n",
       "      <td>-1.066580</td>\n",
       "      <td>-1.362085</td>\n",
       "      <td>-1.157451</td>\n",
       "      <td>0.149987</td>\n",
       "      <td>0.944057</td>\n",
       "      <td>-0.035754</td>\n",
       "      <td>-0.514485</td>\n",
       "      <td>0.331474</td>\n",
       "      <td>3.755073</td>\n",
       "      <td>...</td>\n",
       "      <td>-1.352920</td>\n",
       "      <td>-1.628421</td>\n",
       "      <td>-1.336108</td>\n",
       "      <td>-1.045037</td>\n",
       "      <td>-0.469795</td>\n",
       "      <td>-0.059039</td>\n",
       "      <td>-0.627221</td>\n",
       "      <td>-1.016366</td>\n",
       "      <td>-1.032028</td>\n",
       "      <td>1.376025</td>\n",
       "    </tr>\n",
       "    <tr>\n",
       "      <th>451</th>\n",
       "      <td>-0.701497</td>\n",
       "      <td>-0.200650</td>\n",
       "      <td>-0.687880</td>\n",
       "      <td>-0.682204</td>\n",
       "      <td>1.327033</td>\n",
       "      <td>-0.036619</td>\n",
       "      <td>-0.229252</td>\n",
       "      <td>-0.353247</td>\n",
       "      <td>-0.036372</td>\n",
       "      <td>0.339253</td>\n",
       "      <td>...</td>\n",
       "      <td>-0.644011</td>\n",
       "      <td>0.614731</td>\n",
       "      <td>-0.647704</td>\n",
       "      <td>-0.626555</td>\n",
       "      <td>1.616328</td>\n",
       "      <td>0.085623</td>\n",
       "      <td>0.060743</td>\n",
       "      <td>0.116740</td>\n",
       "      <td>-0.156974</td>\n",
       "      <td>0.398365</td>\n",
       "    </tr>\n",
       "    <tr>\n",
       "      <th>452</th>\n",
       "      <td>0.048802</td>\n",
       "      <td>-0.555001</td>\n",
       "      <td>-0.065125</td>\n",
       "      <td>-0.061423</td>\n",
       "      <td>-2.261627</td>\n",
       "      <td>-1.466613</td>\n",
       "      <td>-1.028567</td>\n",
       "      <td>-1.105515</td>\n",
       "      <td>-1.103492</td>\n",
       "      <td>-1.249242</td>\n",
       "      <td>...</td>\n",
       "      <td>-0.275720</td>\n",
       "      <td>-0.806427</td>\n",
       "      <td>-0.379841</td>\n",
       "      <td>-0.339278</td>\n",
       "      <td>-1.989065</td>\n",
       "      <td>-1.307006</td>\n",
       "      <td>-1.127968</td>\n",
       "      <td>-1.239034</td>\n",
       "      <td>-0.708639</td>\n",
       "      <td>-1.271455</td>\n",
       "    </tr>\n",
       "    <tr>\n",
       "      <th>453</th>\n",
       "      <td>-0.038969</td>\n",
       "      <td>0.102073</td>\n",
       "      <td>-0.031374</td>\n",
       "      <td>-0.154780</td>\n",
       "      <td>0.737432</td>\n",
       "      <td>0.184701</td>\n",
       "      <td>0.298585</td>\n",
       "      <td>0.430059</td>\n",
       "      <td>-0.517123</td>\n",
       "      <td>0.372579</td>\n",
       "      <td>...</td>\n",
       "      <td>0.167478</td>\n",
       "      <td>0.868921</td>\n",
       "      <td>0.203878</td>\n",
       "      <td>-0.013556</td>\n",
       "      <td>1.291049</td>\n",
       "      <td>0.672020</td>\n",
       "      <td>0.632532</td>\n",
       "      <td>1.050012</td>\n",
       "      <td>0.434322</td>\n",
       "      <td>1.213362</td>\n",
       "    </tr>\n",
       "    <tr>\n",
       "      <th>454</th>\n",
       "      <td>-0.548606</td>\n",
       "      <td>0.313276</td>\n",
       "      <td>-0.603502</td>\n",
       "      <td>-0.551900</td>\n",
       "      <td>-1.122689</td>\n",
       "      <td>-1.206562</td>\n",
       "      <td>-0.819699</td>\n",
       "      <td>-0.804345</td>\n",
       "      <td>-0.262179</td>\n",
       "      <td>-0.831290</td>\n",
       "      <td>...</td>\n",
       "      <td>-0.602396</td>\n",
       "      <td>1.205642</td>\n",
       "      <td>-0.675600</td>\n",
       "      <td>-0.580527</td>\n",
       "      <td>-0.834108</td>\n",
       "      <td>-1.059918</td>\n",
       "      <td>-0.765388</td>\n",
       "      <td>-0.611029</td>\n",
       "      <td>-0.334521</td>\n",
       "      <td>-0.846287</td>\n",
       "    </tr>\n",
       "  </tbody>\n",
       "</table>\n",
       "<p>455 rows × 29 columns</p>\n",
       "</div>"
      ],
      "text/plain": [
       "     mean radius  mean texture  mean perimeter  mean area  mean smoothness  \\\n",
       "0      -1.440753     -0.435319       -1.362085  -1.139118         0.780573   \n",
       "1       1.974096      1.733026        2.091672   1.851973         1.319843   \n",
       "2      -1.399982     -1.249622       -1.345209  -1.109785        -1.332645   \n",
       "3      -0.981797      1.416222       -0.982587  -0.866944         0.059390   \n",
       "4      -1.117700     -1.010259       -1.125002  -0.965942         1.269511   \n",
       "..           ...           ...             ...        ...              ...   \n",
       "450    -1.480675     -1.066580       -1.362085  -1.157451         0.149987   \n",
       "451    -0.701497     -0.200650       -0.687880  -0.682204         1.327033   \n",
       "452     0.048802     -0.555001       -0.065125  -0.061423        -2.261627   \n",
       "453    -0.038969      0.102073       -0.031374  -0.154780         0.737432   \n",
       "454    -0.548606      0.313276       -0.603502  -0.551900        -1.122689   \n",
       "\n",
       "     mean compactness  mean concavity  mean concave points  mean symmetry  \\\n",
       "0            0.718921        2.823135            -0.119150       1.092662   \n",
       "1            3.426275        2.013112             2.665032       2.127004   \n",
       "2           -0.307355       -0.365558            -0.696502       1.930333   \n",
       "3           -0.596788       -0.820203            -0.845115       0.313264   \n",
       "4           -0.439002       -0.983341            -0.930600       3.394436   \n",
       "..                ...             ...                  ...            ...   \n",
       "450          0.944057       -0.035754            -0.514485       0.331474   \n",
       "451         -0.036619       -0.229252            -0.353247      -0.036372   \n",
       "452         -1.466613       -1.028567            -1.105515      -1.103492   \n",
       "453          0.184701        0.298585             0.430059      -0.517123   \n",
       "454         -1.206562       -0.819699            -0.804345      -0.262179   \n",
       "\n",
       "     mean fractal dimension  ...  worst radius  worst texture  \\\n",
       "0                  2.458173  ...     -1.232861      -0.476309   \n",
       "1                  1.558396  ...      2.173314       1.311279   \n",
       "2                  0.954379  ...     -1.295284      -1.040811   \n",
       "3                  0.074041  ...     -0.829197       1.593530   \n",
       "4                  0.950213  ...     -1.085129      -1.334616   \n",
       "..                      ...  ...           ...            ...   \n",
       "450                3.755073  ...     -1.352920      -1.628421   \n",
       "451                0.339253  ...     -0.644011       0.614731   \n",
       "452               -1.249242  ...     -0.275720      -0.806427   \n",
       "453                0.372579  ...      0.167478       0.868921   \n",
       "454               -0.831290  ...     -0.602396       1.205642   \n",
       "\n",
       "     worst perimeter  worst area  worst smoothness  worst compactness  \\\n",
       "0          -1.247920   -0.973968          0.722894           1.186732   \n",
       "1           2.081617    2.137405          0.761928           3.265601   \n",
       "2          -1.245220   -0.999715         -1.438693          -0.548564   \n",
       "3          -0.873572   -0.742947          0.796624          -0.729392   \n",
       "4          -1.117138   -0.896549         -0.174876          -0.995079   \n",
       "..               ...         ...               ...                ...   \n",
       "450        -1.336108   -1.045037         -0.469795          -0.059039   \n",
       "451        -0.647704   -0.626555          1.616328           0.085623   \n",
       "452        -0.379841   -0.339278         -1.989065          -1.307006   \n",
       "453         0.203878   -0.013556          1.291049           0.672020   \n",
       "454        -0.675600   -0.580527         -0.834108          -1.059918   \n",
       "\n",
       "     worst concavity  worst concave points  worst symmetry  \\\n",
       "0           4.672828              0.932012        2.097242   \n",
       "1           1.928621              2.698947        1.891161   \n",
       "2          -0.644911             -0.970239        0.597602   \n",
       "3          -0.774950             -0.809483        0.798928   \n",
       "4          -1.209146             -1.354582        1.033544   \n",
       "..               ...                   ...             ...   \n",
       "450        -0.627221             -1.016366       -1.032028   \n",
       "451         0.060743              0.116740       -0.156974   \n",
       "452        -1.127968             -1.239034       -0.708639   \n",
       "453         0.632532              1.050012        0.434322   \n",
       "454        -0.765388             -0.611029       -0.334521   \n",
       "\n",
       "     worst fractal dimension  \n",
       "0                   1.886450  \n",
       "1                   2.497838  \n",
       "2                   0.057894  \n",
       "3                  -0.134497  \n",
       "4                  -0.205732  \n",
       "..                       ...  \n",
       "450                 1.376025  \n",
       "451                 0.398365  \n",
       "452                -1.271455  \n",
       "453                 1.213362  \n",
       "454                -0.846287  \n",
       "\n",
       "[455 rows x 29 columns]"
      ]
     },
     "execution_count": 30,
     "metadata": {},
     "output_type": "execute_result"
    }
   ],
   "source": [
    "from sklearn.preprocessing import StandardScaler \n",
    "\n",
    "ss = StandardScaler()\n",
    "ss.fit(x_train)\n",
    "\n",
    "x_train = pd.DataFrame(ss.transform(x_train), columns = x_train.columns)\n",
    "x_test = pd.DataFrame(ss.transform(x_test), columns = x_test.columns)\n",
    "x_train"
   ]
  },
  {
   "cell_type": "code",
   "execution_count": 31,
   "id": "1f0c1e4c",
   "metadata": {},
   "outputs": [
    {
     "data": {
      "text/html": [
       "<style>#sk-container-id-1 {color: black;background-color: white;}#sk-container-id-1 pre{padding: 0;}#sk-container-id-1 div.sk-toggleable {background-color: white;}#sk-container-id-1 label.sk-toggleable__label {cursor: pointer;display: block;width: 100%;margin-bottom: 0;padding: 0.3em;box-sizing: border-box;text-align: center;}#sk-container-id-1 label.sk-toggleable__label-arrow:before {content: \"▸\";float: left;margin-right: 0.25em;color: #696969;}#sk-container-id-1 label.sk-toggleable__label-arrow:hover:before {color: black;}#sk-container-id-1 div.sk-estimator:hover label.sk-toggleable__label-arrow:before {color: black;}#sk-container-id-1 div.sk-toggleable__content {max-height: 0;max-width: 0;overflow: hidden;text-align: left;background-color: #f0f8ff;}#sk-container-id-1 div.sk-toggleable__content pre {margin: 0.2em;color: black;border-radius: 0.25em;background-color: #f0f8ff;}#sk-container-id-1 input.sk-toggleable__control:checked~div.sk-toggleable__content {max-height: 200px;max-width: 100%;overflow: auto;}#sk-container-id-1 input.sk-toggleable__control:checked~label.sk-toggleable__label-arrow:before {content: \"▾\";}#sk-container-id-1 div.sk-estimator input.sk-toggleable__control:checked~label.sk-toggleable__label {background-color: #d4ebff;}#sk-container-id-1 div.sk-label input.sk-toggleable__control:checked~label.sk-toggleable__label {background-color: #d4ebff;}#sk-container-id-1 input.sk-hidden--visually {border: 0;clip: rect(1px 1px 1px 1px);clip: rect(1px, 1px, 1px, 1px);height: 1px;margin: -1px;overflow: hidden;padding: 0;position: absolute;width: 1px;}#sk-container-id-1 div.sk-estimator {font-family: monospace;background-color: #f0f8ff;border: 1px dotted black;border-radius: 0.25em;box-sizing: border-box;margin-bottom: 0.5em;}#sk-container-id-1 div.sk-estimator:hover {background-color: #d4ebff;}#sk-container-id-1 div.sk-parallel-item::after {content: \"\";width: 100%;border-bottom: 1px solid gray;flex-grow: 1;}#sk-container-id-1 div.sk-label:hover label.sk-toggleable__label {background-color: #d4ebff;}#sk-container-id-1 div.sk-serial::before {content: \"\";position: absolute;border-left: 1px solid gray;box-sizing: border-box;top: 0;bottom: 0;left: 50%;z-index: 0;}#sk-container-id-1 div.sk-serial {display: flex;flex-direction: column;align-items: center;background-color: white;padding-right: 0.2em;padding-left: 0.2em;position: relative;}#sk-container-id-1 div.sk-item {position: relative;z-index: 1;}#sk-container-id-1 div.sk-parallel {display: flex;align-items: stretch;justify-content: center;background-color: white;position: relative;}#sk-container-id-1 div.sk-item::before, #sk-container-id-1 div.sk-parallel-item::before {content: \"\";position: absolute;border-left: 1px solid gray;box-sizing: border-box;top: 0;bottom: 0;left: 50%;z-index: -1;}#sk-container-id-1 div.sk-parallel-item {display: flex;flex-direction: column;z-index: 1;position: relative;background-color: white;}#sk-container-id-1 div.sk-parallel-item:first-child::after {align-self: flex-end;width: 50%;}#sk-container-id-1 div.sk-parallel-item:last-child::after {align-self: flex-start;width: 50%;}#sk-container-id-1 div.sk-parallel-item:only-child::after {width: 0;}#sk-container-id-1 div.sk-dashed-wrapped {border: 1px dashed gray;margin: 0 0.4em 0.5em 0.4em;box-sizing: border-box;padding-bottom: 0.4em;background-color: white;}#sk-container-id-1 div.sk-label label {font-family: monospace;font-weight: bold;display: inline-block;line-height: 1.2em;}#sk-container-id-1 div.sk-label-container {text-align: center;}#sk-container-id-1 div.sk-container {/* jupyter's `normalize.less` sets `[hidden] { display: none; }` but bootstrap.min.css set `[hidden] { display: none !important; }` so we also need the `!important` here to be able to override the default hidden behavior on the sphinx rendered scikit-learn.org. See: https://github.com/scikit-learn/scikit-learn/issues/21755 */display: inline-block !important;position: relative;}#sk-container-id-1 div.sk-text-repr-fallback {display: none;}</style><div id=\"sk-container-id-1\" class=\"sk-top-container\"><div class=\"sk-text-repr-fallback\"><pre>LogisticRegression()</pre><b>In a Jupyter environment, please rerun this cell to show the HTML representation or trust the notebook. <br />On GitHub, the HTML representation is unable to render, please try loading this page with nbviewer.org.</b></div><div class=\"sk-container\" hidden><div class=\"sk-item\"><div class=\"sk-estimator sk-toggleable\"><input class=\"sk-toggleable__control sk-hidden--visually\" id=\"sk-estimator-id-1\" type=\"checkbox\" checked><label for=\"sk-estimator-id-1\" class=\"sk-toggleable__label sk-toggleable__label-arrow\">LogisticRegression</label><div class=\"sk-toggleable__content\"><pre>LogisticRegression()</pre></div></div></div></div></div>"
      ],
      "text/plain": [
       "LogisticRegression()"
      ]
     },
     "execution_count": 31,
     "metadata": {},
     "output_type": "execute_result"
    }
   ],
   "source": [
    "\n",
    "\n",
    "model = LogisticRegression()\n",
    "model.fit(x_train, y_train)\n",
    "\n"
   ]
  },
  {
   "cell_type": "code",
   "execution_count": 33,
   "id": "ce2e1146",
   "metadata": {},
   "outputs": [
    {
     "data": {
      "text/plain": [
       "0.9736842105263158"
      ]
     },
     "execution_count": 33,
     "metadata": {},
     "output_type": "execute_result"
    }
   ],
   "source": [
    "model.score(x_test, y_test)"
   ]
  },
  {
   "cell_type": "code",
   "execution_count": 38,
   "id": "300cff13",
   "metadata": {},
   "outputs": [
    {
     "data": {
      "text/plain": [
       "0.9736842105263158"
      ]
     },
     "execution_count": 38,
     "metadata": {},
     "output_type": "execute_result"
    }
   ],
   "source": [
    "from sklearn.metrics import accuracy_score\n",
    "\n",
    "pred_test = model.predict(x_test) # Предсказание класса \n",
    "pred_test\n",
    "\n",
    "accuracy_score(y_test, pred_test)"
   ]
  },
  {
   "cell_type": "code",
   "execution_count": 39,
   "id": "9c207bbd",
   "metadata": {},
   "outputs": [
    {
     "data": {
      "text/plain": [
       "array([[-0.42455444, -0.398298  , -0.38273006, -0.46092313, -0.08135889,\n",
       "         0.55204417, -0.76765835, -1.12815464,  0.23961474,  0.14281978,\n",
       "        -1.27954618,  0.20610129, -0.61528864, -0.91417608, -0.23278455,\n",
       "         0.85478506,  0.27057413, -0.23033242,  0.49223995, -0.86540169,\n",
       "        -1.33481747, -0.57016842, -0.83844082, -0.60877539, -0.00789531,\n",
       "        -1.03021376, -0.81617316, -1.23603892,  0.06752478]])"
      ]
     },
     "execution_count": 39,
     "metadata": {},
     "output_type": "execute_result"
    }
   ],
   "source": [
    "model.coef_ #Веса модели"
   ]
  },
  {
   "cell_type": "code",
   "execution_count": 40,
   "id": "5e815251",
   "metadata": {},
   "outputs": [
    {
     "data": {
      "text/plain": [
       "array([0.39047579])"
      ]
     },
     "execution_count": 40,
     "metadata": {},
     "output_type": "execute_result"
    }
   ],
   "source": [
    "model.intercept_ #Свободный коэфициент"
   ]
  },
  {
   "cell_type": "code",
   "execution_count": 41,
   "id": "2366e3cf",
   "metadata": {},
   "outputs": [
    {
     "data": {
      "text/html": [
       "<div>\n",
       "<style scoped>\n",
       "    .dataframe tbody tr th:only-of-type {\n",
       "        vertical-align: middle;\n",
       "    }\n",
       "\n",
       "    .dataframe tbody tr th {\n",
       "        vertical-align: top;\n",
       "    }\n",
       "\n",
       "    .dataframe thead th {\n",
       "        text-align: right;\n",
       "    }\n",
       "</style>\n",
       "<table border=\"1\" class=\"dataframe\">\n",
       "  <thead>\n",
       "    <tr style=\"text-align: right;\">\n",
       "      <th></th>\n",
       "      <th>0</th>\n",
       "    </tr>\n",
       "  </thead>\n",
       "  <tbody>\n",
       "    <tr>\n",
       "      <th>0</th>\n",
       "      <td>mean radius</td>\n",
       "    </tr>\n",
       "    <tr>\n",
       "      <th>1</th>\n",
       "      <td>mean texture</td>\n",
       "    </tr>\n",
       "    <tr>\n",
       "      <th>2</th>\n",
       "      <td>mean perimeter</td>\n",
       "    </tr>\n",
       "    <tr>\n",
       "      <th>3</th>\n",
       "      <td>mean area</td>\n",
       "    </tr>\n",
       "    <tr>\n",
       "      <th>4</th>\n",
       "      <td>mean smoothness</td>\n",
       "    </tr>\n",
       "    <tr>\n",
       "      <th>5</th>\n",
       "      <td>mean compactness</td>\n",
       "    </tr>\n",
       "    <tr>\n",
       "      <th>6</th>\n",
       "      <td>mean concavity</td>\n",
       "    </tr>\n",
       "    <tr>\n",
       "      <th>7</th>\n",
       "      <td>mean concave points</td>\n",
       "    </tr>\n",
       "    <tr>\n",
       "      <th>8</th>\n",
       "      <td>mean symmetry</td>\n",
       "    </tr>\n",
       "    <tr>\n",
       "      <th>9</th>\n",
       "      <td>mean fractal dimension</td>\n",
       "    </tr>\n",
       "    <tr>\n",
       "      <th>10</th>\n",
       "      <td>radius error</td>\n",
       "    </tr>\n",
       "    <tr>\n",
       "      <th>11</th>\n",
       "      <td>texture error</td>\n",
       "    </tr>\n",
       "    <tr>\n",
       "      <th>12</th>\n",
       "      <td>perimeter error</td>\n",
       "    </tr>\n",
       "    <tr>\n",
       "      <th>13</th>\n",
       "      <td>area error</td>\n",
       "    </tr>\n",
       "    <tr>\n",
       "      <th>14</th>\n",
       "      <td>smoothness error</td>\n",
       "    </tr>\n",
       "    <tr>\n",
       "      <th>15</th>\n",
       "      <td>compactness error</td>\n",
       "    </tr>\n",
       "    <tr>\n",
       "      <th>16</th>\n",
       "      <td>concavity error</td>\n",
       "    </tr>\n",
       "    <tr>\n",
       "      <th>17</th>\n",
       "      <td>concave points error</td>\n",
       "    </tr>\n",
       "    <tr>\n",
       "      <th>18</th>\n",
       "      <td>symmetry error</td>\n",
       "    </tr>\n",
       "    <tr>\n",
       "      <th>19</th>\n",
       "      <td>worst radius</td>\n",
       "    </tr>\n",
       "    <tr>\n",
       "      <th>20</th>\n",
       "      <td>worst texture</td>\n",
       "    </tr>\n",
       "    <tr>\n",
       "      <th>21</th>\n",
       "      <td>worst perimeter</td>\n",
       "    </tr>\n",
       "    <tr>\n",
       "      <th>22</th>\n",
       "      <td>worst area</td>\n",
       "    </tr>\n",
       "    <tr>\n",
       "      <th>23</th>\n",
       "      <td>worst smoothness</td>\n",
       "    </tr>\n",
       "    <tr>\n",
       "      <th>24</th>\n",
       "      <td>worst compactness</td>\n",
       "    </tr>\n",
       "    <tr>\n",
       "      <th>25</th>\n",
       "      <td>worst concavity</td>\n",
       "    </tr>\n",
       "    <tr>\n",
       "      <th>26</th>\n",
       "      <td>worst concave points</td>\n",
       "    </tr>\n",
       "    <tr>\n",
       "      <th>27</th>\n",
       "      <td>worst symmetry</td>\n",
       "    </tr>\n",
       "    <tr>\n",
       "      <th>28</th>\n",
       "      <td>worst fractal dimension</td>\n",
       "    </tr>\n",
       "  </tbody>\n",
       "</table>\n",
       "</div>"
      ],
      "text/plain": [
       "                          0\n",
       "0               mean radius\n",
       "1              mean texture\n",
       "2            mean perimeter\n",
       "3                 mean area\n",
       "4           mean smoothness\n",
       "5          mean compactness\n",
       "6            mean concavity\n",
       "7       mean concave points\n",
       "8             mean symmetry\n",
       "9    mean fractal dimension\n",
       "10             radius error\n",
       "11            texture error\n",
       "12          perimeter error\n",
       "13               area error\n",
       "14         smoothness error\n",
       "15        compactness error\n",
       "16          concavity error\n",
       "17     concave points error\n",
       "18           symmetry error\n",
       "19             worst radius\n",
       "20            worst texture\n",
       "21          worst perimeter\n",
       "22               worst area\n",
       "23         worst smoothness\n",
       "24        worst compactness\n",
       "25          worst concavity\n",
       "26     worst concave points\n",
       "27           worst symmetry\n",
       "28  worst fractal dimension"
      ]
     },
     "execution_count": 41,
     "metadata": {},
     "output_type": "execute_result"
    }
   ],
   "source": [
    "coef_table = pd.DataFrame(list(x.columns)).copy()\n",
    "coef_table"
   ]
  },
  {
   "cell_type": "code",
   "execution_count": 53,
   "id": "224cce4e",
   "metadata": {},
   "outputs": [
    {
     "data": {
      "text/html": [
       "<div>\n",
       "<style scoped>\n",
       "    .dataframe tbody tr th:only-of-type {\n",
       "        vertical-align: middle;\n",
       "    }\n",
       "\n",
       "    .dataframe tbody tr th {\n",
       "        vertical-align: top;\n",
       "    }\n",
       "\n",
       "    .dataframe thead th {\n",
       "        text-align: right;\n",
       "    }\n",
       "</style>\n",
       "<table border=\"1\" class=\"dataframe\">\n",
       "  <thead>\n",
       "    <tr style=\"text-align: right;\">\n",
       "      <th></th>\n",
       "      <th>0</th>\n",
       "      <th>Coefs</th>\n",
       "    </tr>\n",
       "  </thead>\n",
       "  <tbody>\n",
       "    <tr>\n",
       "      <th>20</th>\n",
       "      <td>worst texture</td>\n",
       "      <td>-1.334817</td>\n",
       "    </tr>\n",
       "    <tr>\n",
       "      <th>10</th>\n",
       "      <td>radius error</td>\n",
       "      <td>-1.279546</td>\n",
       "    </tr>\n",
       "    <tr>\n",
       "      <th>27</th>\n",
       "      <td>worst symmetry</td>\n",
       "      <td>-1.236039</td>\n",
       "    </tr>\n",
       "    <tr>\n",
       "      <th>7</th>\n",
       "      <td>mean concave points</td>\n",
       "      <td>-1.128155</td>\n",
       "    </tr>\n",
       "    <tr>\n",
       "      <th>25</th>\n",
       "      <td>worst concavity</td>\n",
       "      <td>-1.030214</td>\n",
       "    </tr>\n",
       "    <tr>\n",
       "      <th>13</th>\n",
       "      <td>area error</td>\n",
       "      <td>-0.914176</td>\n",
       "    </tr>\n",
       "    <tr>\n",
       "      <th>19</th>\n",
       "      <td>worst radius</td>\n",
       "      <td>-0.865402</td>\n",
       "    </tr>\n",
       "    <tr>\n",
       "      <th>22</th>\n",
       "      <td>worst area</td>\n",
       "      <td>-0.838441</td>\n",
       "    </tr>\n",
       "    <tr>\n",
       "      <th>26</th>\n",
       "      <td>worst concave points</td>\n",
       "      <td>-0.816173</td>\n",
       "    </tr>\n",
       "    <tr>\n",
       "      <th>6</th>\n",
       "      <td>mean concavity</td>\n",
       "      <td>-0.767658</td>\n",
       "    </tr>\n",
       "    <tr>\n",
       "      <th>12</th>\n",
       "      <td>perimeter error</td>\n",
       "      <td>-0.615289</td>\n",
       "    </tr>\n",
       "    <tr>\n",
       "      <th>23</th>\n",
       "      <td>worst smoothness</td>\n",
       "      <td>-0.608775</td>\n",
       "    </tr>\n",
       "    <tr>\n",
       "      <th>21</th>\n",
       "      <td>worst perimeter</td>\n",
       "      <td>-0.570168</td>\n",
       "    </tr>\n",
       "    <tr>\n",
       "      <th>3</th>\n",
       "      <td>mean area</td>\n",
       "      <td>-0.460923</td>\n",
       "    </tr>\n",
       "    <tr>\n",
       "      <th>0</th>\n",
       "      <td>mean radius</td>\n",
       "      <td>-0.424554</td>\n",
       "    </tr>\n",
       "    <tr>\n",
       "      <th>1</th>\n",
       "      <td>mean texture</td>\n",
       "      <td>-0.398298</td>\n",
       "    </tr>\n",
       "    <tr>\n",
       "      <th>2</th>\n",
       "      <td>mean perimeter</td>\n",
       "      <td>-0.382730</td>\n",
       "    </tr>\n",
       "    <tr>\n",
       "      <th>14</th>\n",
       "      <td>smoothness error</td>\n",
       "      <td>-0.232785</td>\n",
       "    </tr>\n",
       "    <tr>\n",
       "      <th>17</th>\n",
       "      <td>concave points error</td>\n",
       "      <td>-0.230332</td>\n",
       "    </tr>\n",
       "    <tr>\n",
       "      <th>4</th>\n",
       "      <td>mean smoothness</td>\n",
       "      <td>-0.081359</td>\n",
       "    </tr>\n",
       "    <tr>\n",
       "      <th>24</th>\n",
       "      <td>worst compactness</td>\n",
       "      <td>-0.007895</td>\n",
       "    </tr>\n",
       "    <tr>\n",
       "      <th>28</th>\n",
       "      <td>worst fractal dimension</td>\n",
       "      <td>0.067525</td>\n",
       "    </tr>\n",
       "    <tr>\n",
       "      <th>9</th>\n",
       "      <td>mean fractal dimension</td>\n",
       "      <td>0.142820</td>\n",
       "    </tr>\n",
       "    <tr>\n",
       "      <th>11</th>\n",
       "      <td>texture error</td>\n",
       "      <td>0.206101</td>\n",
       "    </tr>\n",
       "    <tr>\n",
       "      <th>8</th>\n",
       "      <td>mean symmetry</td>\n",
       "      <td>0.239615</td>\n",
       "    </tr>\n",
       "    <tr>\n",
       "      <th>16</th>\n",
       "      <td>concavity error</td>\n",
       "      <td>0.270574</td>\n",
       "    </tr>\n",
       "    <tr>\n",
       "      <th>18</th>\n",
       "      <td>symmetry error</td>\n",
       "      <td>0.492240</td>\n",
       "    </tr>\n",
       "    <tr>\n",
       "      <th>5</th>\n",
       "      <td>mean compactness</td>\n",
       "      <td>0.552044</td>\n",
       "    </tr>\n",
       "    <tr>\n",
       "      <th>15</th>\n",
       "      <td>compactness error</td>\n",
       "      <td>0.854785</td>\n",
       "    </tr>\n",
       "  </tbody>\n",
       "</table>\n",
       "</div>"
      ],
      "text/plain": [
       "                          0     Coefs\n",
       "20            worst texture -1.334817\n",
       "10             radius error -1.279546\n",
       "27           worst symmetry -1.236039\n",
       "7       mean concave points -1.128155\n",
       "25          worst concavity -1.030214\n",
       "13               area error -0.914176\n",
       "19             worst radius -0.865402\n",
       "22               worst area -0.838441\n",
       "26     worst concave points -0.816173\n",
       "6            mean concavity -0.767658\n",
       "12          perimeter error -0.615289\n",
       "23         worst smoothness -0.608775\n",
       "21          worst perimeter -0.570168\n",
       "3                 mean area -0.460923\n",
       "0               mean radius -0.424554\n",
       "1              mean texture -0.398298\n",
       "2            mean perimeter -0.382730\n",
       "14         smoothness error -0.232785\n",
       "17     concave points error -0.230332\n",
       "4           mean smoothness -0.081359\n",
       "24        worst compactness -0.007895\n",
       "28  worst fractal dimension  0.067525\n",
       "9    mean fractal dimension  0.142820\n",
       "11            texture error  0.206101\n",
       "8             mean symmetry  0.239615\n",
       "16          concavity error  0.270574\n",
       "18           symmetry error  0.492240\n",
       "5          mean compactness  0.552044\n",
       "15        compactness error  0.854785"
      ]
     },
     "execution_count": 53,
     "metadata": {},
     "output_type": "execute_result"
    }
   ],
   "source": [
    "coef_table.insert(len(coef_table.columns), 'Coefs', model.coef_.transpose())\n",
    "#len(coef_table.columns)\n",
    "coef_table.sort_values(by = 'Coefs')"
   ]
  },
  {
   "cell_type": "code",
   "execution_count": 47,
   "id": "8c5a135a",
   "metadata": {},
   "outputs": [
    {
     "data": {
      "text/plain": [
       "array([[-0.42455444],\n",
       "       [-0.398298  ],\n",
       "       [-0.38273006],\n",
       "       [-0.46092313],\n",
       "       [-0.08135889],\n",
       "       [ 0.55204417],\n",
       "       [-0.76765835],\n",
       "       [-1.12815464],\n",
       "       [ 0.23961474],\n",
       "       [ 0.14281978],\n",
       "       [-1.27954618],\n",
       "       [ 0.20610129],\n",
       "       [-0.61528864],\n",
       "       [-0.91417608],\n",
       "       [-0.23278455],\n",
       "       [ 0.85478506],\n",
       "       [ 0.27057413],\n",
       "       [-0.23033242],\n",
       "       [ 0.49223995],\n",
       "       [-0.86540169],\n",
       "       [-1.33481747],\n",
       "       [-0.57016842],\n",
       "       [-0.83844082],\n",
       "       [-0.60877539],\n",
       "       [-0.00789531],\n",
       "       [-1.03021376],\n",
       "       [-0.81617316],\n",
       "       [-1.23603892],\n",
       "       [ 0.06752478]])"
      ]
     },
     "execution_count": 47,
     "metadata": {},
     "output_type": "execute_result"
    }
   ],
   "source": [
    "model.coef_.transpose()"
   ]
  },
  {
   "cell_type": "code",
   "execution_count": 68,
   "id": "4af40e20",
   "metadata": {},
   "outputs": [
    {
     "data": {
      "text/plain": [
       "array([[1.23433524e-01, 8.76566476e-01],\n",
       "       [9.99990712e-01, 9.28787548e-06],\n",
       "       [9.97167826e-01, 2.83217425e-03],\n",
       "       [5.92407060e-04, 9.99407593e-01],\n",
       "       [5.84465365e-05, 9.99941553e-01]])"
      ]
     },
     "execution_count": 68,
     "metadata": {},
     "output_type": "execute_result"
    }
   ],
   "source": [
    "pred_prob = model.predict_proba(x_test)\n",
    "pred_prob[:5]"
   ]
  },
  {
   "cell_type": "code",
   "execution_count": 69,
   "id": "77733944",
   "metadata": {},
   "outputs": [],
   "source": [
    "from sklearn.neighbors import KNeighborsClassifier\n"
   ]
  },
  {
   "cell_type": "code",
   "execution_count": 71,
   "id": "270fe070",
   "metadata": {},
   "outputs": [
    {
     "data": {
      "text/html": [
       "<style>#sk-container-id-2 {color: black;background-color: white;}#sk-container-id-2 pre{padding: 0;}#sk-container-id-2 div.sk-toggleable {background-color: white;}#sk-container-id-2 label.sk-toggleable__label {cursor: pointer;display: block;width: 100%;margin-bottom: 0;padding: 0.3em;box-sizing: border-box;text-align: center;}#sk-container-id-2 label.sk-toggleable__label-arrow:before {content: \"▸\";float: left;margin-right: 0.25em;color: #696969;}#sk-container-id-2 label.sk-toggleable__label-arrow:hover:before {color: black;}#sk-container-id-2 div.sk-estimator:hover label.sk-toggleable__label-arrow:before {color: black;}#sk-container-id-2 div.sk-toggleable__content {max-height: 0;max-width: 0;overflow: hidden;text-align: left;background-color: #f0f8ff;}#sk-container-id-2 div.sk-toggleable__content pre {margin: 0.2em;color: black;border-radius: 0.25em;background-color: #f0f8ff;}#sk-container-id-2 input.sk-toggleable__control:checked~div.sk-toggleable__content {max-height: 200px;max-width: 100%;overflow: auto;}#sk-container-id-2 input.sk-toggleable__control:checked~label.sk-toggleable__label-arrow:before {content: \"▾\";}#sk-container-id-2 div.sk-estimator input.sk-toggleable__control:checked~label.sk-toggleable__label {background-color: #d4ebff;}#sk-container-id-2 div.sk-label input.sk-toggleable__control:checked~label.sk-toggleable__label {background-color: #d4ebff;}#sk-container-id-2 input.sk-hidden--visually {border: 0;clip: rect(1px 1px 1px 1px);clip: rect(1px, 1px, 1px, 1px);height: 1px;margin: -1px;overflow: hidden;padding: 0;position: absolute;width: 1px;}#sk-container-id-2 div.sk-estimator {font-family: monospace;background-color: #f0f8ff;border: 1px dotted black;border-radius: 0.25em;box-sizing: border-box;margin-bottom: 0.5em;}#sk-container-id-2 div.sk-estimator:hover {background-color: #d4ebff;}#sk-container-id-2 div.sk-parallel-item::after {content: \"\";width: 100%;border-bottom: 1px solid gray;flex-grow: 1;}#sk-container-id-2 div.sk-label:hover label.sk-toggleable__label {background-color: #d4ebff;}#sk-container-id-2 div.sk-serial::before {content: \"\";position: absolute;border-left: 1px solid gray;box-sizing: border-box;top: 0;bottom: 0;left: 50%;z-index: 0;}#sk-container-id-2 div.sk-serial {display: flex;flex-direction: column;align-items: center;background-color: white;padding-right: 0.2em;padding-left: 0.2em;position: relative;}#sk-container-id-2 div.sk-item {position: relative;z-index: 1;}#sk-container-id-2 div.sk-parallel {display: flex;align-items: stretch;justify-content: center;background-color: white;position: relative;}#sk-container-id-2 div.sk-item::before, #sk-container-id-2 div.sk-parallel-item::before {content: \"\";position: absolute;border-left: 1px solid gray;box-sizing: border-box;top: 0;bottom: 0;left: 50%;z-index: -1;}#sk-container-id-2 div.sk-parallel-item {display: flex;flex-direction: column;z-index: 1;position: relative;background-color: white;}#sk-container-id-2 div.sk-parallel-item:first-child::after {align-self: flex-end;width: 50%;}#sk-container-id-2 div.sk-parallel-item:last-child::after {align-self: flex-start;width: 50%;}#sk-container-id-2 div.sk-parallel-item:only-child::after {width: 0;}#sk-container-id-2 div.sk-dashed-wrapped {border: 1px dashed gray;margin: 0 0.4em 0.5em 0.4em;box-sizing: border-box;padding-bottom: 0.4em;background-color: white;}#sk-container-id-2 div.sk-label label {font-family: monospace;font-weight: bold;display: inline-block;line-height: 1.2em;}#sk-container-id-2 div.sk-label-container {text-align: center;}#sk-container-id-2 div.sk-container {/* jupyter's `normalize.less` sets `[hidden] { display: none; }` but bootstrap.min.css set `[hidden] { display: none !important; }` so we also need the `!important` here to be able to override the default hidden behavior on the sphinx rendered scikit-learn.org. See: https://github.com/scikit-learn/scikit-learn/issues/21755 */display: inline-block !important;position: relative;}#sk-container-id-2 div.sk-text-repr-fallback {display: none;}</style><div id=\"sk-container-id-2\" class=\"sk-top-container\"><div class=\"sk-text-repr-fallback\"><pre>KNeighborsClassifier()</pre><b>In a Jupyter environment, please rerun this cell to show the HTML representation or trust the notebook. <br />On GitHub, the HTML representation is unable to render, please try loading this page with nbviewer.org.</b></div><div class=\"sk-container\" hidden><div class=\"sk-item\"><div class=\"sk-estimator sk-toggleable\"><input class=\"sk-toggleable__control sk-hidden--visually\" id=\"sk-estimator-id-2\" type=\"checkbox\" checked><label for=\"sk-estimator-id-2\" class=\"sk-toggleable__label sk-toggleable__label-arrow\">KNeighborsClassifier</label><div class=\"sk-toggleable__content\"><pre>KNeighborsClassifier()</pre></div></div></div></div></div>"
      ],
      "text/plain": [
       "KNeighborsClassifier()"
      ]
     },
     "execution_count": 71,
     "metadata": {},
     "output_type": "execute_result"
    }
   ],
   "source": [
    "kn_model = KNeighborsClassifier()\n",
    "kn_model.fit(x_train, y_train)\n"
   ]
  },
  {
   "cell_type": "code",
   "execution_count": 73,
   "id": "594942d9",
   "metadata": {},
   "outputs": [
    {
     "data": {
      "text/plain": [
       "0.956140350877193"
      ]
     },
     "execution_count": 73,
     "metadata": {},
     "output_type": "execute_result"
    }
   ],
   "source": [
    "kn_model.score(x_test, y_test)"
   ]
  },
  {
   "cell_type": "code",
   "execution_count": 74,
   "id": "b955e394",
   "metadata": {},
   "outputs": [
    {
     "data": {
      "text/plain": [
       "0.956140350877193"
      ]
     },
     "execution_count": 74,
     "metadata": {},
     "output_type": "execute_result"
    }
   ],
   "source": [
    "pred_kn = kn_model.predict(x_test)\n",
    "new_score = accuracy_score(y_test,pred_kn)\n",
    "new_score"
   ]
  },
  {
   "cell_type": "code",
   "execution_count": 77,
   "id": "4b2eae7a",
   "metadata": {},
   "outputs": [
    {
     "data": {
      "text/plain": [
       "['__abstractmethods__',\n",
       " '__annotations__',\n",
       " '__class__',\n",
       " '__delattr__',\n",
       " '__dict__',\n",
       " '__dir__',\n",
       " '__doc__',\n",
       " '__eq__',\n",
       " '__format__',\n",
       " '__ge__',\n",
       " '__getattribute__',\n",
       " '__getstate__',\n",
       " '__gt__',\n",
       " '__hash__',\n",
       " '__init__',\n",
       " '__init_subclass__',\n",
       " '__le__',\n",
       " '__lt__',\n",
       " '__module__',\n",
       " '__ne__',\n",
       " '__new__',\n",
       " '__reduce__',\n",
       " '__reduce_ex__',\n",
       " '__repr__',\n",
       " '__setattr__',\n",
       " '__setstate__',\n",
       " '__sizeof__',\n",
       " '__str__',\n",
       " '__subclasshook__',\n",
       " '__weakref__',\n",
       " '_abc_impl',\n",
       " '_check_algorithm_metric',\n",
       " '_check_feature_names',\n",
       " '_check_n_features',\n",
       " '_estimator_type',\n",
       " '_fit',\n",
       " '_fit_X',\n",
       " '_fit_method',\n",
       " '_get_param_names',\n",
       " '_get_tags',\n",
       " '_kneighbors_reduce_func',\n",
       " '_more_tags',\n",
       " '_parameter_constraints',\n",
       " '_repr_html_',\n",
       " '_repr_html_inner',\n",
       " '_repr_mimebundle_',\n",
       " '_tree',\n",
       " '_validate_data',\n",
       " '_validate_params',\n",
       " '_y',\n",
       " 'algorithm',\n",
       " 'classes_',\n",
       " 'effective_metric_',\n",
       " 'effective_metric_params_',\n",
       " 'feature_names_in_',\n",
       " 'fit',\n",
       " 'get_params',\n",
       " 'kneighbors',\n",
       " 'kneighbors_graph',\n",
       " 'leaf_size',\n",
       " 'metric',\n",
       " 'metric_params',\n",
       " 'n_features_in_',\n",
       " 'n_jobs',\n",
       " 'n_neighbors',\n",
       " 'n_samples_fit_',\n",
       " 'outputs_2d_',\n",
       " 'p',\n",
       " 'predict',\n",
       " 'predict_proba',\n",
       " 'radius',\n",
       " 'score',\n",
       " 'set_params',\n",
       " 'weights']"
      ]
     },
     "execution_count": 77,
     "metadata": {},
     "output_type": "execute_result"
    }
   ],
   "source": [
    "dir(kn_model)"
   ]
  },
  {
   "cell_type": "code",
   "execution_count": 85,
   "id": "6997d3de",
   "metadata": {},
   "outputs": [
    {
     "data": {
      "text/plain": [
       "{'algorithm': 'auto',\n",
       " 'leaf_size': 30,\n",
       " 'metric': 'minkowski',\n",
       " 'metric_params': None,\n",
       " 'n_jobs': None,\n",
       " 'n_neighbors': 5,\n",
       " 'p': 2,\n",
       " 'weights': 'uniform'}"
      ]
     },
     "execution_count": 85,
     "metadata": {},
     "output_type": "execute_result"
    }
   ],
   "source": [
    "kn_model.get_params()"
   ]
  },
  {
   "cell_type": "code",
   "execution_count": 93,
   "id": "da5a38fd",
   "metadata": {},
   "outputs": [],
   "source": [
    "from sklearn.metrics import confusion_matrix, roc_auc_score, roc_curve"
   ]
  },
  {
   "cell_type": "code",
   "execution_count": 108,
   "id": "23f3bc89",
   "metadata": {},
   "outputs": [
    {
     "ename": "TypeError",
     "evalue": "round_() got an unexpected keyword argument 'decimal'",
     "output_type": "error",
     "traceback": [
      "\u001b[1;31m---------------------------------------------------------------------------\u001b[0m",
      "\u001b[1;31mTypeError\u001b[0m                                 Traceback (most recent call last)",
      "Cell \u001b[1;32mIn[108], line 2\u001b[0m\n\u001b[0;32m      1\u001b[0m score \u001b[38;5;241m=\u001b[39m roc_auc_score(y_test,pred_prob[:,\u001b[38;5;241m1\u001b[39m])\n\u001b[1;32m----> 2\u001b[0m score \u001b[38;5;241m=\u001b[39m \u001b[43mnp\u001b[49m\u001b[38;5;241;43m.\u001b[39;49m\u001b[43mround\u001b[49m\u001b[43m(\u001b[49m\u001b[43mscore\u001b[49m\u001b[43m,\u001b[49m\u001b[43m \u001b[49m\u001b[43mdecimal\u001b[49m\u001b[43m \u001b[49m\u001b[38;5;241;43m=\u001b[39;49m\u001b[43m \u001b[49m\u001b[38;5;241;43m1\u001b[39;49m\u001b[43m)\u001b[49m\n\u001b[0;32m      3\u001b[0m score\n",
      "File \u001b[1;32m<__array_function__ internals>:198\u001b[0m, in \u001b[0;36mround_\u001b[1;34m(*args, **kwargs)\u001b[0m\n",
      "\u001b[1;31mTypeError\u001b[0m: round_() got an unexpected keyword argument 'decimal'"
     ]
    }
   ],
   "source": [
    "score = roc_auc_score(y_test,pred_prob[:,1])\n",
    "score = np.round(score, decimal = 1)\n",
    "score"
   ]
  },
  {
   "cell_type": "code",
   "execution_count": 94,
   "id": "00991e3f",
   "metadata": {},
   "outputs": [
    {
     "data": {
      "image/png": "[encoded data removed]",
      "text/plain": [
       "<Figure size 640x480 with 1 Axes>"
      ]
     },
     "metadata": {},
     "output_type": "display_data"
    }
   ],
   "source": [
    "fpr, tpr, treshold = roc_curve(y_test, pred_prob[:, 1])\n",
    "plt.plot(fpr, tpr, 'r-')\n",
    "plt.title('AUC Метрика')\n",
    "plt.show()"
   ]
  },
  {
   "cell_type": "code",
   "execution_count": 107,
   "id": "213e9899",
   "metadata": {},
   "outputs": [
    {
     "data": {
      "text/plain": [
       "array([[41,  2],\n",
       "       [ 3, 68]], dtype=int64)"
      ]
     },
     "execution_count": 107,
     "metadata": {},
     "output_type": "execute_result"
    }
   ],
   "source": [
    "confusion_matrix(y_test, pred_kn)\n"
   ]
  },
  {
   "cell_type": "code",
   "execution_count": null,
   "id": "ee6c37df",
   "metadata": {},
   "outputs": [],
   "source": []
  }
 ],
 "metadata": {
  "kernelspec": {
   "display_name": "Python 3 (ipykernel)",
   "language": "python",
   "name": "python3"
  },
  "language_info": {
   "codemirror_mode": {
    "name": "ipython",
    "version": 3
   },
   "file_extension": ".py",
   "mimetype": "text/x-python",
   "name": "python",
   "nbconvert_exporter": "python",
   "pygments_lexer": "ipython3",
   "version": "3.10.0"
  }
 },
 "nbformat": 4,
 "nbformat_minor": 5
}
